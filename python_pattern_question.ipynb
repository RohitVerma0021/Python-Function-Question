{
  "nbformat": 4,
  "nbformat_minor": 0,
  "metadata": {
    "colab": {
      "provenance": [],
      "authorship_tag": "ABX9TyMxge/AM9vvSe4kOlDFFzeb",
      "include_colab_link": true
    },
    "kernelspec": {
      "name": "python3",
      "display_name": "Python 3"
    },
    "language_info": {
      "name": "python"
    }
  },
  "cells": [
    {
      "cell_type": "markdown",
      "metadata": {
        "id": "view-in-github",
        "colab_type": "text"
      },
      "source": [
        "<a href=\"https://colab.research.google.com/github/RohitVerma0021/Python-Function-Question/blob/main/python_pattern_question.ipynb\" target=\"_parent\"><img src=\"https://colab.research.google.com/assets/colab-badge.svg\" alt=\"Open In Colab\"/></a>"
      ]
    },
    {
      "cell_type": "markdown",
      "source": [
        "## **Question: Write a Python program to print the following pattern:**\n",
        "<pre>\n",
        "<code>\n",
        "*\n",
        "**\n",
        "***\n",
        "****\n",
        "*****\n",
        "</code>\n",
        "</pre>\n",
        "🔍 Code Solution"
      ],
      "metadata": {
        "id": "R0sOAz0jVSD2"
      }
    },
    {
      "cell_type": "code",
      "source": [
        "for i in range(1, 6):\n",
        "    print('*' * i)\n"
      ],
      "metadata": {
        "colab": {
          "base_uri": "https://localhost:8080/"
        },
        "id": "gcQmsHB0UYGA",
        "outputId": "ee2c1810-60c1-46f3-e2e6-f2fc365ecd18"
      },
      "execution_count": null,
      "outputs": [
        {
          "output_type": "stream",
          "name": "stdout",
          "text": [
            "*\n",
            "**\n",
            "***\n",
            "****\n",
            "*****\n"
          ]
        }
      ]
    },
    {
      "cell_type": "markdown",
      "source": [
        "### **Question: Write a Python program to print the following pattern:**\n",
        "<pre>\n",
        "<code>\n",
        "    *\n",
        "   **\n",
        "  ***\n",
        " ****\n",
        "*****\n",
        "</code>\n",
        "</pre>\n",
        "🔍 Code Solution"
      ],
      "metadata": {
        "id": "ey3ljaaSWywe"
      }
    },
    {
      "cell_type": "code",
      "source": [
        "for i in range(1, 6):\n",
        "    print(' ' * (5 - i) + '*' * i)\n"
      ],
      "metadata": {
        "colab": {
          "base_uri": "https://localhost:8080/"
        },
        "id": "1-V0ANMoWupP",
        "outputId": "67da101c-bbce-4dc4-f60e-4396f4a83c95"
      },
      "execution_count": null,
      "outputs": [
        {
          "output_type": "stream",
          "name": "stdout",
          "text": [
            "    *\n",
            "   **\n",
            "  ***\n",
            " ****\n",
            "*****\n"
          ]
        }
      ]
    },
    {
      "cell_type": "markdown",
      "source": [
        "### **Question: Write a Python program to print the following pattern:**\n",
        "<pre>\n",
        "<code>\n",
        "*****\n",
        "****\n",
        "***\n",
        "**\n",
        "*\n",
        "</code>\n",
        "</pre>\n",
        "🔍 Code Solution"
      ],
      "metadata": {
        "id": "e3Cktnk2XY1b"
      }
    },
    {
      "cell_type": "code",
      "source": [
        "for i in range(5, 0, -1):\n",
        "    print('*' * i)\n"
      ],
      "metadata": {
        "colab": {
          "base_uri": "https://localhost:8080/"
        },
        "id": "LoL9G2S6XTfn",
        "outputId": "3f3edf8f-33bc-4a7b-e574-601abd5700c5"
      },
      "execution_count": null,
      "outputs": [
        {
          "output_type": "stream",
          "name": "stdout",
          "text": [
            "*****\n",
            "****\n",
            "***\n",
            "**\n",
            "*\n"
          ]
        }
      ]
    },
    {
      "cell_type": "markdown",
      "source": [
        "### **Question: Write a Python program to print the following pattern:**\n",
        "<pre>\n",
        "<code>\n",
        "    1\n",
        "   222\n",
        "  33333\n",
        " 4444444\n",
        "555555555\n",
        "</code>\n",
        "</pre>\n",
        "🔍 Code Solution\n"
      ],
      "metadata": {
        "id": "z5MfAGhsXlVY"
      }
    },
    {
      "cell_type": "code",
      "source": [
        "for i in range(1, 6):\n",
        "    print(' ' * (5 - i) + str(i) * (2 * i - 1))\n"
      ],
      "metadata": {
        "colab": {
          "base_uri": "https://localhost:8080/"
        },
        "id": "EPNQwu3pXi4f",
        "outputId": "6f35c126-4789-40bd-8d31-a984d1ca989e"
      },
      "execution_count": null,
      "outputs": [
        {
          "output_type": "stream",
          "name": "stdout",
          "text": [
            "    1\n",
            "   222\n",
            "  33333\n",
            " 4444444\n",
            "555555555\n"
          ]
        }
      ]
    },
    {
      "cell_type": "markdown",
      "source": [
        "### **Question: Write a Python program to print the following pattern:**\n",
        "<pre>\n",
        "<code>\n",
        "A\n",
        "BB\n",
        "CCC\n",
        "DDDD\n",
        "EEEEE\n",
        "</code>\n",
        "</pre>\n",
        "🔍 Code Solution\n"
      ],
      "metadata": {
        "id": "oTZkiwDBX2Yt"
      }
    },
    {
      "cell_type": "code",
      "source": [
        "for i in range(1, 6):\n",
        "    print(chr(64 + i) * i)\n"
      ],
      "metadata": {
        "colab": {
          "base_uri": "https://localhost:8080/"
        },
        "id": "B6ypwuxsXzxX",
        "outputId": "cb4a2cde-026d-4788-b46c-9e7d4c33b682"
      },
      "execution_count": null,
      "outputs": [
        {
          "output_type": "stream",
          "name": "stdout",
          "text": [
            "A\n",
            "BB\n",
            "CCC\n",
            "DDDD\n",
            "EEEEE\n"
          ]
        }
      ]
    },
    {
      "cell_type": "markdown",
      "source": [
        "### **Question: Write a Python program to print the following pattern:**\n",
        "<pre>\n",
        "<code>\n",
        "    A\n",
        "   BBB\n",
        "  CCCCC\n",
        " DDDDDDD\n",
        "EEEEEEEEE\n",
        "</code>\n",
        "</pre>\n",
        "🔍 Code Solution"
      ],
      "metadata": {
        "id": "bKtJlDWNX9Ey"
      }
    },
    {
      "cell_type": "code",
      "source": [
        "for i in range(1, 6):\n",
        "    print(' ' * (5 - i) + chr(64 + i) * (2 * i - 1))\n"
      ],
      "metadata": {
        "colab": {
          "base_uri": "https://localhost:8080/"
        },
        "id": "aHMaQgz3X7hu",
        "outputId": "b0555432-efd8-4bf7-cb67-9ed7aa300eed"
      },
      "execution_count": null,
      "outputs": [
        {
          "output_type": "stream",
          "name": "stdout",
          "text": [
            "    A\n",
            "   BBB\n",
            "  CCCCC\n",
            " DDDDDDD\n",
            "EEEEEEEEE\n"
          ]
        }
      ]
    },
    {
      "cell_type": "markdown",
      "source": [
        "### **Question: Write a Python program to print the following pattern:**\n",
        "<pre>\n",
        "<code>\n",
        "12345\n",
        " 1234\n",
        "  123\n",
        "   12\n",
        "    1\n",
        "</code>\n",
        "</pre>\n",
        "🔍 Code Solution"
      ],
      "metadata": {
        "id": "iAFVxvGEYFVP"
      }
    },
    {
      "cell_type": "code",
      "source": [
        "for i in range(5, 0, -1):\n",
        "    print(' ' * (5 - i) + ''.join(str(j) for j in range(1, i + 1)))\n"
      ],
      "metadata": {
        "colab": {
          "base_uri": "https://localhost:8080/"
        },
        "id": "QZDFr9DuYDae",
        "outputId": "9aada8aa-d7c8-4dd3-d0e1-759c0a3624c0"
      },
      "execution_count": null,
      "outputs": [
        {
          "output_type": "stream",
          "name": "stdout",
          "text": [
            "12345\n",
            " 1234\n",
            "  123\n",
            "   12\n",
            "    1\n"
          ]
        }
      ]
    },
    {
      "cell_type": "markdown",
      "source": [
        "### **Question: Write a Python program to print the following pattern:**\n",
        "<pre>\n",
        "<code>\n",
        "1\n",
        "22\n",
        "333\n",
        "4444\n",
        "55555\n",
        "</code>\n",
        "</pre>\n",
        "🔍 Code Solution"
      ],
      "metadata": {
        "id": "Fh_dX1iAYNW4"
      }
    },
    {
      "cell_type": "code",
      "source": [
        "for i in range(1, 6):\n",
        "    print(str(i) * i)"
      ],
      "metadata": {
        "colab": {
          "base_uri": "https://localhost:8080/"
        },
        "id": "ddEkHeAGYKgO",
        "outputId": "d3dddd7b-bda0-4f8a-dba7-1bfe6a633317"
      },
      "execution_count": null,
      "outputs": [
        {
          "output_type": "stream",
          "name": "stdout",
          "text": [
            "1\n",
            "22\n",
            "333\n",
            "4444\n",
            "55555\n"
          ]
        }
      ]
    },
    {
      "cell_type": "markdown",
      "source": [
        "### **Question: Write a Python program to print the following pattern:**\n",
        "<pre>\n",
        "<code>\n",
        "    1\n",
        "   222\n",
        "  33333\n",
        " 4444444\n",
        "555555555\n",
        " 4444444\n",
        "  33333\n",
        "   222\n",
        "    1\n",
        "</code>\n",
        "</pre>\n",
        "🔍 Code Solution"
      ],
      "metadata": {
        "id": "EIB-FtDtYVPm"
      }
    },
    {
      "cell_type": "code",
      "source": [
        "for i in range(1, 6):\n",
        "    print(' ' * (5 - i) + str(i) * (2 * i - 1))\n",
        "for i in range(4, 0, -1):\n",
        "    print(' ' * (5 - i) + str(i) * (2 * i - 1))"
      ],
      "metadata": {
        "colab": {
          "base_uri": "https://localhost:8080/"
        },
        "id": "ga4EfDGAYTat",
        "outputId": "b2c2722b-3e61-4fa3-86a0-9e3167b45333"
      },
      "execution_count": null,
      "outputs": [
        {
          "output_type": "stream",
          "name": "stdout",
          "text": [
            "    1\n",
            "   222\n",
            "  33333\n",
            " 4444444\n",
            "555555555\n",
            " 4444444\n",
            "  33333\n",
            "   222\n",
            "    1\n"
          ]
        }
      ]
    },
    {
      "cell_type": "markdown",
      "source": [
        "### **Question: Write a Python program to print the following pattern:**\n",
        "<pre>\n",
        "<code>\n",
        "*****\n",
        " ****\n",
        "  ***\n",
        "   **\n",
        "    *\n",
        " ****\n",
        "  ***\n",
        "   **\n",
        "    *\n",
        "</code>\n",
        "</pre>\n",
        "🔍 Code Solution"
      ],
      "metadata": {
        "id": "edROZSClYpd4"
      }
    },
    {
      "cell_type": "code",
      "source": [
        "for i in range(5, 0, -1):\n",
        "    print(' ' * (5 - i) + '*' * i)\n",
        "for i in range(2, 6):\n",
        "    print(' ' * (i - 1) + '*' * (6 - i))\n"
      ],
      "metadata": {
        "colab": {
          "base_uri": "https://localhost:8080/"
        },
        "id": "BHDr8Wo2YZW1",
        "outputId": "01475928-fae0-4374-8c95-70be42440993"
      },
      "execution_count": null,
      "outputs": [
        {
          "output_type": "stream",
          "name": "stdout",
          "text": [
            "*****\n",
            " ****\n",
            "  ***\n",
            "   **\n",
            "    *\n",
            " ****\n",
            "  ***\n",
            "   **\n",
            "    *\n"
          ]
        }
      ]
    },
    {
      "cell_type": "markdown",
      "source": [
        "### **Question: Write a Python program to print the following pattern:**\n",
        "<pre>\n",
        "<code>\n",
        "1\n",
        "23\n",
        "456\n",
        "78910\n",
        "</code>\n",
        "</pre>\n",
        "🔍 Code Solution"
      ],
      "metadata": {
        "id": "9ZstSirgY6UO"
      }
    },
    {
      "cell_type": "code",
      "source": [
        "count = 1\n",
        "for i in range(1, 5):\n",
        "    for j in range(i):\n",
        "        print(count, end='')\n",
        "        count += 1\n",
        "    print()\n"
      ],
      "metadata": {
        "colab": {
          "base_uri": "https://localhost:8080/"
        },
        "id": "x4xrW4n9YunW",
        "outputId": "3e599b3b-a734-4efc-cee6-dde33bc3e69a"
      },
      "execution_count": null,
      "outputs": [
        {
          "output_type": "stream",
          "name": "stdout",
          "text": [
            "1\n",
            "23\n",
            "456\n",
            "78910\n"
          ]
        }
      ]
    },
    {
      "cell_type": "markdown",
      "source": [
        "### **Question: Write a Python program to print the following pattern:**\n",
        "<pre>\n",
        "<code>\n",
        "1\n",
        "12\n",
        "123\n",
        "1234\n",
        "12345\n",
        "</code>\n",
        "</pre>\n",
        "🔍 Code Solution"
      ],
      "metadata": {
        "id": "W52GpIAmZLqi"
      }
    },
    {
      "cell_type": "code",
      "source": [
        "for i in range(1, 6):\n",
        "    for j in range(1, i + 1):\n",
        "        print(j, end='')\n",
        "    print()\n"
      ],
      "metadata": {
        "colab": {
          "base_uri": "https://localhost:8080/"
        },
        "id": "Ei7cHBJGY_DW",
        "outputId": "10b596f3-585e-4e21-9828-9eac1091aae0"
      },
      "execution_count": null,
      "outputs": [
        {
          "output_type": "stream",
          "name": "stdout",
          "text": [
            "1\n",
            "12\n",
            "123\n",
            "1234\n",
            "12345\n"
          ]
        }
      ]
    },
    {
      "cell_type": "markdown",
      "source": [
        "### **Question: Write a Python program to print the following pattern:**\n",
        "<pre>\n",
        "<code>\n",
        "54321\n",
        "5432\n",
        "543\n",
        "54\n",
        "5\n",
        "</code>\n",
        "</pre>\n",
        "🔍 Code Solution"
      ],
      "metadata": {
        "id": "SCkITKCRZThw"
      }
    },
    {
      "cell_type": "code",
      "source": [
        "for i in range(1, 6):\n",
        "    for j in range(5, i - 1, -1):\n",
        "        print(j, end=\"\")\n",
        "    print()"
      ],
      "metadata": {
        "colab": {
          "base_uri": "https://localhost:8080/"
        },
        "id": "tX8hxv26ZQ82",
        "outputId": "7ee23a95-830d-4670-ab3f-d115f2a81313"
      },
      "execution_count": null,
      "outputs": [
        {
          "output_type": "stream",
          "name": "stdout",
          "text": [
            "54321\n",
            "5432\n",
            "543\n",
            "54\n",
            "5\n"
          ]
        }
      ]
    },
    {
      "cell_type": "code",
      "source": [],
      "metadata": {
        "id": "70IyM37FZYqC"
      },
      "execution_count": null,
      "outputs": []
    }
  ]
}