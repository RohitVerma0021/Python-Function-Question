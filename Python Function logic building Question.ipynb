{
 "cells": [
  {
   "cell_type": "code",
   "execution_count": 13,
   "id": "106b1f13",
   "metadata": {},
   "outputs": [
    {
     "data": {
      "text/plain": [
       "5"
      ]
     },
     "execution_count": 13,
     "metadata": {},
     "output_type": "execute_result"
    }
   ],
   "source": [
    "# Write a Python function to find the Max of three numbers\n",
    "def max_three(x,y,z):\n",
    "    if x>=y and x>=z:\n",
    "        return x\n",
    "    elif y>=x and y>=z:\n",
    "        return y\n",
    "    else:\n",
    "        return z\n",
    "max_three(4,5,3)"
   ]
  },
  {
   "cell_type": "code",
   "execution_count": 14,
   "id": "543c8352",
   "metadata": {},
   "outputs": [],
   "source": [
    "#  Write a Python function to sum all the numbers in a list.\n",
    "# Sample List : (8, 2, 3, 0, 7)\n",
    "# Expected Output : 20\n",
    "def sum(x):\n",
    "    i=0\n",
    "    s=0\n",
    "    while len(x) > i:\n",
    "        s=s+x[i]\n",
    "        i+=1\n",
    "    print(s)\n",
    "    \n"
   ]
  },
  {
   "cell_type": "code",
   "execution_count": 15,
   "id": "dcddf4d0",
   "metadata": {},
   "outputs": [
    {
     "name": "stdout",
     "output_type": "stream",
     "text": [
      "20\n"
     ]
    }
   ],
   "source": [
    "l=[8,2,3,0,7]\n",
    "sum(l)"
   ]
  },
  {
   "cell_type": "code",
   "execution_count": 16,
   "id": "23d343d7",
   "metadata": {},
   "outputs": [],
   "source": [
    "# Write a Python function to multiply all the numbers in a\n",
    "# list.\n",
    "# Sample List : (8, 2, 3, -1, 7)\n",
    "# Expected Output : -336\n",
    "def mul(x):\n",
    "    s=1\n",
    "    for i in x:\n",
    "        s=i*s\n",
    "    print(s)\n"
   ]
  },
  {
   "cell_type": "code",
   "execution_count": 17,
   "id": "e1acacc4",
   "metadata": {},
   "outputs": [
    {
     "name": "stdout",
     "output_type": "stream",
     "text": [
      "-336\n"
     ]
    }
   ],
   "source": [
    "x=(8, 2, 3, -1, 7)\n",
    "mul(x)"
   ]
  },
  {
   "cell_type": "code",
   "execution_count": 18,
   "id": "b2b9679c",
   "metadata": {},
   "outputs": [],
   "source": [
    "# Write a Python program to reverse a string.\n",
    "# Sample String : \"1234abcd\"\n",
    "# Expected Output : \"dcba4321\n",
    "def revers():\n",
    "   # print revers string using while loop \n",
    "    n=input()\n",
    "    a=len(n)-1\n",
    "    x=\"\"\n",
    "    while a>=0:\n",
    "        x=x+n[a]\n",
    "        a-=1\n",
    "    print(x)\n"
   ]
  },
  {
   "cell_type": "code",
   "execution_count": 19,
   "id": "29f2c780",
   "metadata": {},
   "outputs": [
    {
     "name": "stdout",
     "output_type": "stream",
     "text": [
      "hello\n",
      "olleh\n"
     ]
    }
   ],
   "source": [
    "revers()"
   ]
  },
  {
   "cell_type": "code",
   "execution_count": 26,
   "id": "3ecce5f9",
   "metadata": {},
   "outputs": [],
   "source": [
    "# Write a Python function to calculate the factorial of a\n",
    "# number (a non-negative integer). The function accepts the\n",
    "# number as an argument.\n",
    "def factorial(x):\n",
    "    f=1\n",
    "    for i in range(1,x+1):\n",
    "        f=f*i\n",
    "    print(f)"
   ]
  },
  {
   "cell_type": "code",
   "execution_count": 27,
   "id": "3502fb65",
   "metadata": {},
   "outputs": [
    {
     "name": "stdout",
     "output_type": "stream",
     "text": [
      "24\n"
     ]
    }
   ],
   "source": [
    "factorial(4)"
   ]
  },
  {
   "cell_type": "code",
   "execution_count": 31,
   "id": "67b0adf0",
   "metadata": {},
   "outputs": [
    {
     "data": {
      "text/plain": [
       "24"
      ]
     },
     "execution_count": 31,
     "metadata": {},
     "output_type": "execute_result"
    }
   ],
   "source": [
    "# Write a Python function to calculate the factorial of a\n",
    "# number (a non-negative integer). The function accepts the\n",
    "# number as an argument.\n",
    "def factorial2(x):\n",
    "    if x < 0:\n",
    "        return 0\n",
    "    elif x==0 and x==1:\n",
    "        return 1\n",
    "    else:\n",
    "        fact=1\n",
    "        for i in range(2,x+1):\n",
    "            fact=fact*i\n",
    "        return fact\n",
    "# factorial of the 4\n",
    "factorial2(4)"
   ]
  },
  {
   "cell_type": "code",
   "execution_count": 32,
   "id": "5dd544a2",
   "metadata": {},
   "outputs": [],
   "source": [
    "# Write a Python function that accepts a string and\n",
    "# calculate the number of upper case letters and lower case\n",
    "# letters.\n",
    "# Sample String : 'The quick Brow Fox'\n",
    "# Expected Output :\n",
    "# No. of Upper case characters : 3\n",
    "# No. of Lower case Characters : 12\n",
    "def upper_lower():\n",
    "    n=input(\"enter the string: \")\n",
    "    upper,lower=0,0\n",
    "    for i in n:\n",
    "        if i.isupper():\n",
    "            upper+=1\n",
    "        if i.islower():\n",
    "            lower+=1\n",
    "    print(upper)\n",
    "    print(lower)"
   ]
  },
  {
   "cell_type": "code",
   "execution_count": 33,
   "id": "60058a6f",
   "metadata": {},
   "outputs": [
    {
     "name": "stdout",
     "output_type": "stream",
     "text": [
      "enter the string: Hello \n",
      "1\n",
      "4\n"
     ]
    }
   ],
   "source": [
    "upper_lower()"
   ]
  },
  {
   "cell_type": "code",
   "execution_count": 34,
   "id": "3678cffc",
   "metadata": {},
   "outputs": [],
   "source": [
    "# Write a Python function that takes a list and returns a\n",
    "# new list with unique elements of the first list.\n",
    "# Sample List : [1,2,3,3,3,3,4,5]\n",
    "# Unique List : [1, 2, 3, 4, 5]\n",
    "def uniq(x):\n",
    "    l=[]\n",
    "    for i in x:\n",
    "        if i not in l:\n",
    "            l.append(i)\n",
    "    return l\n",
    "# we have 2nd option to solve this program \n",
    "def uniq2(n):\n",
    "    a=set(n)\n",
    "    return sorted(a)\n"
   ]
  },
  {
   "cell_type": "code",
   "execution_count": 35,
   "id": "0fb12ff4",
   "metadata": {},
   "outputs": [
    {
     "data": {
      "text/plain": [
       "[1, 2, 3, 4, 5]"
      ]
     },
     "execution_count": 35,
     "metadata": {},
     "output_type": "execute_result"
    }
   ],
   "source": [
    "l= [1,2,3,3,3,3,4,5]\n",
    "'''we can easyly to use two fucntion'''\n",
    "uniq2(l)"
   ]
  },
  {
   "cell_type": "code",
   "execution_count": 2,
   "id": "d565cbd5",
   "metadata": {},
   "outputs": [],
   "source": [
    "#  Write a Python function that takes a number as a parameter\n",
    "# and check the number is prime or not.\n",
    "# Note : A prime number (or a prime) is a natural number\n",
    "# greater than 1 and that has no positive divisors other than 1\n",
    "# and itself.\n",
    "def prime_series():\n",
    "    n=int(input(\"Please enter the number:  \"))\n",
    "    if n <= 0:\n",
    "        return \"This is not a prime number\"\n",
    "    elif n==1:\n",
    "        return \"This is not prime number\"\n",
    "    elif n==2:\n",
    "        return \"This is prime number\"\n",
    "    else:\n",
    "        for i in  range(2,n):\n",
    "            if n %i ==0:\n",
    "                return \"This is not prime number\"\n",
    "        return \"This is prime number\""
   ]
  },
  {
   "cell_type": "code",
   "execution_count": 3,
   "id": "e791cbec",
   "metadata": {},
   "outputs": [
    {
     "name": "stdout",
     "output_type": "stream",
     "text": [
      "Please enter the number:  9\n"
     ]
    },
    {
     "data": {
      "text/plain": [
       "'This is not prime number'"
      ]
     },
     "execution_count": 3,
     "metadata": {},
     "output_type": "execute_result"
    }
   ],
   "source": [
    "prime_series()"
   ]
  },
  {
   "cell_type": "code",
   "execution_count": 18,
   "id": "fdc35c5a",
   "metadata": {},
   "outputs": [],
   "source": [
    "# Write a Python program to print the even numbers from a\n",
    "# given list.\n",
    "# Sample List : [1, 2, 3, 4, 5, 6, 7, 8, 9]\n",
    "# Expected Result : [2, 4, 6, 8]\n",
    "\n",
    "def even(x):\n",
    "    l=[]\n",
    "    i=0\n",
    "    while len(x) > i:\n",
    "        if x[i]%2==0:\n",
    "            l.append(x[i])\n",
    "        i+=1\n",
    "    print(\"Result Output\",l)"
   ]
  },
  {
   "cell_type": "code",
   "execution_count": 19,
   "id": "dda04bcb",
   "metadata": {},
   "outputs": [
    {
     "name": "stdout",
     "output_type": "stream",
     "text": [
      "Result Output [2, 4, 6, 8]\n"
     ]
    }
   ],
   "source": [
    "Sample_List = [1, 2, 3, 4, 5, 6, 7, 8, 9]\n",
    "even(Sample_List)"
   ]
  },
  {
   "cell_type": "code",
   "execution_count": null,
   "id": "0f35fc4b",
   "metadata": {},
   "outputs": [],
   "source": []
  }
 ],
 "metadata": {
  "kernelspec": {
   "display_name": "Python 3 (ipykernel)",
   "language": "python",
   "name": "python3"
  },
  "language_info": {
   "codemirror_mode": {
    "name": "ipython",
    "version": 3
   },
   "file_extension": ".py",
   "mimetype": "text/x-python",
   "name": "python",
   "nbconvert_exporter": "python",
   "pygments_lexer": "ipython3",
   "version": "3.10.1"
  }
 },
 "nbformat": 4,
 "nbformat_minor": 5
}
